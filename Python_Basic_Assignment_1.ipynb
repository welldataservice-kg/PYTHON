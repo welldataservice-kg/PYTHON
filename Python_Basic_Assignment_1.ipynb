{
  "nbformat": 4,
  "nbformat_minor": 0,
  "metadata": {
    "colab": {
      "provenance": []
    },
    "kernelspec": {
      "name": "python3",
      "display_name": "Python 3"
    },
    "language_info": {
      "name": "python"
    }
  },
  "cells": [
    {
      "cell_type": "markdown",
      "source": [
        "**`Python Basics Questions`**"
      ],
      "metadata": {
        "id": "AifAKXhoZDD8"
      }
    },
    {
      "cell_type": "markdown",
      "source": [],
      "metadata": {
        "id": "Nb3QX_UuhA3u"
      }
    },
    {
      "cell_type": "markdown",
      "source": [
        "**1. What is Python, and why is it popular?**\n",
        "    \n",
        "    Ans- Python is a high-level, easy-to-learn programming language known for its simplicity and readability. It is popular because of its vast libraries, versatility, and strong community support across fields like web development, data science, and AI.\n",
        "\n",
        "**2. What is an interpreter in Python?**\n",
        "   \n",
        "    Ans - An interpreter in Python is a program that executes Python code line by line, converting it into machine-readable instructions.It makes Python easy to test and debug, but generally slower than compiled languages.\n",
        "\n",
        "**3. What are pre-defined keywords in Python?**\n",
        "\n",
        "    Ans - Pre-defined keywords in Python are reserved words that have special meanings and cannot be used as identifiers (like variable names). Examples include if, else, while, for, def, and class.\n",
        "\n",
        "**4.  Can keywords be used as variable names?**\n",
        "\n",
        "    Ans - No, keywords cannot be used as variable names in Python because they are reserved for specific syntax and functions.\n",
        "\n",
        "**5. What is mutability in Python?**\n",
        "\n",
        "    Ans - #objects/container whose state or value can be changed after they are created are called as mutable objects or container, list is a type of mutable object/supports item assignment.\n",
        "\n",
        "**6. Why are lists mutable, but tuples are immutable?**\n",
        "\n",
        "    Ans - **Lists are mutable** because they are designed for dynamic operations like adding, removing, or modifying elements. **Tuples are immutable** to ensure data integrity and allow their use as dictionary keys or set elements.\n",
        "\n",
        "**7. What is the difference between “==” and “is” operators in Python?**\n",
        "\n",
        "    Ans - The **==** operator checks if the values of two objects are equal, even if they are stored in different memory locations. The **is** operator checks whether two references point to the exact same object in memory.\n",
        "\n",
        "**8. What are logical operators in Python?**\n",
        "\n",
        "    Ans - Logical operators in Python are used to combine conditional statements. They include and, or, and not.\n",
        "\n",
        "**9. What is type casting in Python?**\n",
        "\n",
        "    Ans -  Type casting in Python is the process of converting one data type into another.  It can be done using functions like int(), float(), str(), etc.\n",
        "\n",
        "**10. What is the difference between implicit and explicit type casting?**\n",
        "\n",
        "    Ans - Implicit type casting (type conversion) is done automatically by Python when it promotes a smaller data type to a larger one to avoid data loss.Explicit type casting is done manually by the programmer using functions like int(), float(), or str().\n",
        "\n",
        "**11. What is the purpose of conditional statements in Python?**\n",
        "\n",
        "    Ans - The purpose of conditional statements in Python is to execute specific blocks of code based on whether a condition is true or false.They help in decision-making using if, elif, and else.\n",
        "\n",
        "**12. How does the elif statement work?**\n",
        "\n",
        "    Ans - The elif statement in Python lets you check multiple conditions after an if. It runs the block of code for the first elif whose condition is true, skipping the rest.\n",
        "\n",
        "**13. What is the difference between for and while loops?**\n",
        "\n",
        "    Ans - ChatGPT said:A for loop is used when the number of iterations is known, as it iterates over a sequence or range. A while loop is used when the number of iterations is not fixed and continues until a condition becomes false.\n",
        "\n",
        "**14. Describe a scenario where a while loop is more suitable than a for loop?**\n",
        "\n",
        "    Ans - A while loop is more suitable when you don’t know in advance how many times the loop should run. For example, repeatedly asking a user for input until they enter a valid password."
      ],
      "metadata": {
        "id": "KtTehTSbXX4_"
      }
    },
    {
      "cell_type": "markdown",
      "source": [
        "**Practical Questions**"
      ],
      "metadata": {
        "id": "fM0Mcf8umsdo"
      }
    },
    {
      "cell_type": "markdown",
      "source": [
        "**1. Write a Python program to print \"Hello, World!\"**"
      ],
      "metadata": {
        "id": "GaeDgwUbm_0_"
      }
    },
    {
      "cell_type": "code",
      "source": [
        "print(\"Hello, World!\")"
      ],
      "metadata": {
        "colab": {
          "base_uri": "https://localhost:8080/"
        },
        "id": "_CrME6uvnFQP",
        "outputId": "f9fec767-9bac-4de7-e321-17c461b6329c"
      },
      "execution_count": 1,
      "outputs": [
        {
          "output_type": "stream",
          "name": "stdout",
          "text": [
            "Hello, World!\n"
          ]
        }
      ]
    },
    {
      "cell_type": "markdown",
      "source": [
        "**2. Write a Python program that displays your name and age.**"
      ],
      "metadata": {
        "id": "QFolGJNqnQeI"
      }
    },
    {
      "cell_type": "code",
      "source": [
        "Name = \"Kapil Gupta\"\n",
        "Age = 36\n",
        "\n",
        "print(\"Name is = \" , Name)\n",
        "print(\"Age is = \" , Age)\n"
      ],
      "metadata": {
        "colab": {
          "base_uri": "https://localhost:8080/"
        },
        "id": "AKcRA60PnWuo",
        "outputId": "d0ef04f3-a152-4f55-9e45-33999451a2de"
      },
      "execution_count": 2,
      "outputs": [
        {
          "output_type": "stream",
          "name": "stdout",
          "text": [
            "Name is =  Kapil Gupta\n",
            "Age is =  36\n"
          ]
        }
      ]
    },
    {
      "cell_type": "markdown",
      "source": [
        "**3. Write code to print all the pre-defined keywords in Python using the keyword library.**"
      ],
      "metadata": {
        "id": "y8bsKBNxnwAG"
      }
    },
    {
      "cell_type": "code",
      "source": [
        "import keyword\n",
        "\n",
        "#print all python keywords\n",
        "\n",
        "print(keyword.kwlist)"
      ],
      "metadata": {
        "colab": {
          "base_uri": "https://localhost:8080/"
        },
        "id": "99bKJoZRnx0_",
        "outputId": "c0e701ab-eae6-44ad-a062-bd2f337d95af"
      },
      "execution_count": 3,
      "outputs": [
        {
          "output_type": "stream",
          "name": "stdout",
          "text": [
            "['False', 'None', 'True', 'and', 'as', 'assert', 'async', 'await', 'break', 'class', 'continue', 'def', 'del', 'elif', 'else', 'except', 'finally', 'for', 'from', 'global', 'if', 'import', 'in', 'is', 'lambda', 'nonlocal', 'not', 'or', 'pass', 'raise', 'return', 'try', 'while', 'with', 'yield']\n"
          ]
        }
      ]
    },
    {
      "cell_type": "markdown",
      "source": [
        "**4. Write a program that checks if a given word is a Python keyword.**"
      ],
      "metadata": {
        "id": "wTrdn0GooRqn"
      }
    },
    {
      "cell_type": "code",
      "source": [
        "import keyword\n",
        "\n",
        "word = input(\"Enter a word: \")\n",
        "\n",
        "#iskeyword to check the keyword\n",
        "\n",
        "print(\"is keyword =\",keyword.iskeyword(word))"
      ],
      "metadata": {
        "colab": {
          "base_uri": "https://localhost:8080/"
        },
        "id": "1Jd6-va9oS3P",
        "outputId": "80a974e6-0d59-4228-c864-7683f5c1ad85"
      },
      "execution_count": 6,
      "outputs": [
        {
          "output_type": "stream",
          "name": "stdout",
          "text": [
            "Enter a word: should\n",
            "is keyword = False\n"
          ]
        }
      ]
    },
    {
      "cell_type": "markdown",
      "source": [
        "**5. Create a list and tuple in Python, and demonstrate how attempting to change an element works differently for each.**"
      ],
      "metadata": {
        "id": "-QcH2G0Lo9uW"
      }
    },
    {
      "cell_type": "code",
      "source": [
        "mylist = [1,2,3,4,5.3,5,'5a','Raman']\n",
        "\n",
        "\n",
        "mylist[1] = 'kapil'\n",
        "\n",
        "if(mylist[1] == 'kapil'):\n",
        "  print(\"The list is mutable\" , mylist) # list is mutable can modify\n",
        "\n",
        "else:\n",
        "  print(\"list is unmuatable\", mylist)\n",
        "\n",
        "\n",
        "mytuple = (1,2,3,4,5.3,5,'5a','Raman')\n",
        "\n",
        "try:\n",
        "    mytuple[0] = 10\n",
        "\n",
        "except TypeError:\n",
        "    print(\"Cannot modify tuple\") #tuple is unmutable cannot modify tuple\n",
        "\n",
        "\n",
        "\n"
      ],
      "metadata": {
        "colab": {
          "base_uri": "https://localhost:8080/"
        },
        "id": "RgZHQgNHpBwO",
        "outputId": "895d37f7-3163-40e5-d8bd-23b929ccc990"
      },
      "execution_count": 22,
      "outputs": [
        {
          "output_type": "stream",
          "name": "stdout",
          "text": [
            "The list is mutable [1, 'kapil', 3, 4, 5.3, 5, '5a', 'Raman']\n",
            "Cannot modify tuple\n"
          ]
        }
      ]
    },
    {
      "cell_type": "markdown",
      "source": [
        "**6. Write a function to demonstrate the behavior of mutable and immutable arguments.**"
      ],
      "metadata": {
        "id": "7AUUx0Pz49Ni"
      }
    },
    {
      "cell_type": "code",
      "source": [
        "def modify_list(lst):\n",
        "    lst.append(4)\n",
        "def modify_num(num):\n",
        "    num += 8\n",
        "\n",
        "my_list = [1,2,3,4,5]\n",
        "my_num = 6\n",
        "\n",
        "modify_list(my_list)\n",
        "modify_num(my_num)\n",
        "\n",
        "print(\"Modified List: \", my_list)  #list modified\n",
        "print(\"Modified Tuple: \", my_num)  # number not modified\n",
        "\n",
        "\n"
      ],
      "metadata": {
        "colab": {
          "base_uri": "https://localhost:8080/"
        },
        "id": "VMIdiI_L4-o6",
        "outputId": "75c1729b-e910-4a98-b0c3-a11cd260d9a7"
      },
      "execution_count": 32,
      "outputs": [
        {
          "output_type": "stream",
          "name": "stdout",
          "text": [
            "Modified List:  [1, 2, 3, 4, 5, 4]\n",
            "Modified Tuple:  6\n"
          ]
        }
      ]
    },
    {
      "cell_type": "markdown",
      "source": [
        "**7. Write a program that performs basic arithmetic operations on two user-input numbers.**"
      ],
      "metadata": {
        "id": "o7cS3HQ1-CpX"
      }
    },
    {
      "cell_type": "code",
      "source": [
        "a = float(input(\"Enter a first number: \"))\n",
        "b = float(input(\"Enter a second number: \"))\n",
        "\n",
        "print(\"Addition : \", a +b)\n",
        "print(\"Subtraction : \", a-b)\n",
        "print(\"Multiplication : \", a*b)\n",
        "print(\"Division : \", a/b)\n",
        "\n",
        "\n"
      ],
      "metadata": {
        "colab": {
          "base_uri": "https://localhost:8080/"
        },
        "id": "IRER9T01-EN4",
        "outputId": "0cebdc23-21f6-4f50-de11-f2489b2988b4"
      },
      "execution_count": 35,
      "outputs": [
        {
          "output_type": "stream",
          "name": "stdout",
          "text": [
            "Enter a first number: 4\n",
            "Enter a second number: 8\n",
            "Addition :  12.0\n",
            "Subtraction :  -4.0\n",
            "Multiplication :  32.0\n",
            "Division :  0.5\n"
          ]
        }
      ]
    },
    {
      "cell_type": "markdown",
      "source": [
        "\n",
        "**8. Write a program to demonstrate the use of logical operators.**"
      ],
      "metadata": {
        "id": "BPocrb_H_tnn"
      }
    },
    {
      "cell_type": "code",
      "source": [
        "x = 10\n",
        "y = 5\n",
        "\n",
        "print(x>5 and y<10)\n",
        "print(x>15 or y<4)\n",
        "print(not(x>10 and y<10))"
      ],
      "metadata": {
        "colab": {
          "base_uri": "https://localhost:8080/"
        },
        "id": "aXoosmn0_w-n",
        "outputId": "3bd90cd0-8713-4f35-8847-aee24128c485"
      },
      "execution_count": 39,
      "outputs": [
        {
          "output_type": "stream",
          "name": "stdout",
          "text": [
            "True\n",
            "False\n",
            "True\n"
          ]
        }
      ]
    },
    {
      "cell_type": "markdown",
      "source": [
        "**9. Write a program to convert user input from string to integer, float, and boolean types.**"
      ],
      "metadata": {
        "id": "eBzSfGC2A7i-"
      }
    },
    {
      "cell_type": "code",
      "source": [
        "user_input = input(\"Enter a value: \") # Take input from user\n",
        "\n",
        "\n",
        "int_value = int(user_input)  # Convert to integer\n",
        "\n",
        "float_value = float(user_input) # Convert to float\n",
        "\n",
        "bool_value = bool(user_input)   # Convert to bool\n",
        "\n",
        "print(\"Integer Value: \", int_value)\n",
        "print(\"Float Value: \", float_value)\n",
        "print(\"Boolean Value: \", bool_value)"
      ],
      "metadata": {
        "colab": {
          "base_uri": "https://localhost:8080/"
        },
        "id": "D_fpHuNEA8z-",
        "outputId": "ea0487f3-713c-4d49-b1ac-3f1758621981"
      },
      "execution_count": 43,
      "outputs": [
        {
          "output_type": "stream",
          "name": "stdout",
          "text": [
            "Enter a value: 16\n",
            "Integer Value:  16\n",
            "Float Value:  16.0\n",
            "Boolean Value:  True\n"
          ]
        }
      ]
    },
    {
      "cell_type": "markdown",
      "source": [
        "**10. Write code to demonstrate type casting with list elements.**"
      ],
      "metadata": {
        "id": "L1FgcBr8DBfU"
      }
    },
    {
      "cell_type": "code",
      "source": [
        "list_2 = [1,2,3,\"4a\", \"kapil\"]\n",
        "\n",
        "str_list = [str(item) for item in list_2]\n",
        "print(\"converted list: \",str_list)\n",
        "\n"
      ],
      "metadata": {
        "colab": {
          "base_uri": "https://localhost:8080/"
        },
        "id": "x3LoqvXMDCyW",
        "outputId": "c05b0f4f-49e2-4cb6-9504-dea3b5a8ae30"
      },
      "execution_count": 70,
      "outputs": [
        {
          "output_type": "stream",
          "name": "stdout",
          "text": [
            "converted list:  ['1', '2', '3', '4a', 'kapil']\n"
          ]
        }
      ]
    },
    {
      "cell_type": "markdown",
      "source": [
        "**11. Write a program that checks if a number is positive, negative, or zero.**"
      ],
      "metadata": {
        "id": "kQnUUmWINKbv"
      }
    },
    {
      "cell_type": "code",
      "source": [
        "num_1 = float(input(\"Enter a number: \"))\n",
        "\n",
        "if num_1 > 0:\n",
        "  print(\"Number is positive\")\n",
        "elif num_1 < 0:\n",
        "  print(\"Number is negative\")\n",
        "\n",
        "else:\n",
        "    print(\"Number is zero\")"
      ],
      "metadata": {
        "colab": {
          "base_uri": "https://localhost:8080/"
        },
        "id": "u_Wpou03NP8Y",
        "outputId": "1c42a453-757e-434b-f45f-352fc5e36a07"
      },
      "execution_count": 71,
      "outputs": [
        {
          "output_type": "stream",
          "name": "stdout",
          "text": [
            "Enter a number: 2.5\n",
            "Number is positive\n"
          ]
        }
      ]
    },
    {
      "cell_type": "markdown",
      "source": [
        "12. Write a for loop to print numbers from 1 to 10.**bold text**"
      ],
      "metadata": {
        "id": "qep-9OOuODSY"
      }
    },
    {
      "cell_type": "code",
      "source": [
        "for i in range(1,11):\n",
        "    print(i)\n",
        ""
      ],
      "metadata": {
        "colab": {
          "base_uri": "https://localhost:8080/"
        },
        "id": "CcNYIxALOXvO",
        "outputId": "8c3144c7-6c6b-4a97-d330-cf6cf6ea351e"
      },
      "execution_count": 73,
      "outputs": [
        {
          "output_type": "stream",
          "name": "stdout",
          "text": [
            "1\n",
            "2\n",
            "3\n",
            "4\n",
            "5\n",
            "6\n",
            "7\n",
            "8\n",
            "9\n",
            "10\n"
          ]
        }
      ]
    },
    {
      "cell_type": "markdown",
      "source": [
        "**13. Write a Python program to find the sum of all even numbers between 1 and 50.**"
      ],
      "metadata": {
        "id": "h_Lm5fbNPYIm"
      }
    },
    {
      "cell_type": "code",
      "source": [
        "sum_even = 0\n",
        "for i in range(1,51):\n",
        "  if i % 2 == 0:\n",
        "    sum_even += i\n",
        "  print(\"Sum of even numbers between 1 and 50 is: \", sum_even)"
      ],
      "metadata": {
        "colab": {
          "base_uri": "https://localhost:8080/"
        },
        "id": "kvv_O686RWLn",
        "outputId": "02231312-eb30-4e71-839c-022a0eaf91d3"
      },
      "execution_count": 106,
      "outputs": [
        {
          "output_type": "stream",
          "name": "stdout",
          "text": [
            "Sum of even numbers between 1 and 50 is:  0\n",
            "Sum of even numbers between 1 and 50 is:  2\n",
            "Sum of even numbers between 1 and 50 is:  2\n",
            "Sum of even numbers between 1 and 50 is:  6\n",
            "Sum of even numbers between 1 and 50 is:  6\n",
            "Sum of even numbers between 1 and 50 is:  12\n",
            "Sum of even numbers between 1 and 50 is:  12\n",
            "Sum of even numbers between 1 and 50 is:  20\n",
            "Sum of even numbers between 1 and 50 is:  20\n",
            "Sum of even numbers between 1 and 50 is:  30\n",
            "Sum of even numbers between 1 and 50 is:  30\n",
            "Sum of even numbers between 1 and 50 is:  42\n",
            "Sum of even numbers between 1 and 50 is:  42\n",
            "Sum of even numbers between 1 and 50 is:  56\n",
            "Sum of even numbers between 1 and 50 is:  56\n",
            "Sum of even numbers between 1 and 50 is:  72\n",
            "Sum of even numbers between 1 and 50 is:  72\n",
            "Sum of even numbers between 1 and 50 is:  90\n",
            "Sum of even numbers between 1 and 50 is:  90\n",
            "Sum of even numbers between 1 and 50 is:  110\n",
            "Sum of even numbers between 1 and 50 is:  110\n",
            "Sum of even numbers between 1 and 50 is:  132\n",
            "Sum of even numbers between 1 and 50 is:  132\n",
            "Sum of even numbers between 1 and 50 is:  156\n",
            "Sum of even numbers between 1 and 50 is:  156\n",
            "Sum of even numbers between 1 and 50 is:  182\n",
            "Sum of even numbers between 1 and 50 is:  182\n",
            "Sum of even numbers between 1 and 50 is:  210\n",
            "Sum of even numbers between 1 and 50 is:  210\n",
            "Sum of even numbers between 1 and 50 is:  240\n",
            "Sum of even numbers between 1 and 50 is:  240\n",
            "Sum of even numbers between 1 and 50 is:  272\n",
            "Sum of even numbers between 1 and 50 is:  272\n",
            "Sum of even numbers between 1 and 50 is:  306\n",
            "Sum of even numbers between 1 and 50 is:  306\n",
            "Sum of even numbers between 1 and 50 is:  342\n",
            "Sum of even numbers between 1 and 50 is:  342\n",
            "Sum of even numbers between 1 and 50 is:  380\n",
            "Sum of even numbers between 1 and 50 is:  380\n",
            "Sum of even numbers between 1 and 50 is:  420\n",
            "Sum of even numbers between 1 and 50 is:  420\n",
            "Sum of even numbers between 1 and 50 is:  462\n",
            "Sum of even numbers between 1 and 50 is:  462\n",
            "Sum of even numbers between 1 and 50 is:  506\n",
            "Sum of even numbers between 1 and 50 is:  506\n",
            "Sum of even numbers between 1 and 50 is:  552\n",
            "Sum of even numbers between 1 and 50 is:  552\n",
            "Sum of even numbers between 1 and 50 is:  600\n",
            "Sum of even numbers between 1 and 50 is:  600\n",
            "Sum of even numbers between 1 and 50 is:  650\n"
          ]
        }
      ]
    },
    {
      "cell_type": "markdown",
      "source": [
        "**14. Write a program to reverse a string using a while loop.**"
      ],
      "metadata": {
        "id": "wzkmBdgUTdGd"
      }
    },
    {
      "cell_type": "code",
      "metadata": {
        "colab": {
          "base_uri": "https://localhost:8080/"
        },
        "id": "7d5141b5",
        "outputId": "3cba0b1f-1112-4ecd-bdd3-30ef7c6440a5"
      },
      "source": [
        "input_string = input(\"Enter a string: \")\n",
        "reversed_string = \"\"\n",
        "index = len(input_string) - 1\n",
        "\n",
        "while index >= 0:\n",
        "  reversed_string += input_string[index]\n",
        "  index -= 1\n",
        "\n",
        "print(\"Reversed string:\", reversed_string)"
      ],
      "execution_count": 97,
      "outputs": [
        {
          "output_type": "stream",
          "name": "stdout",
          "text": [
            "Enter a string: kapil\n",
            "Reversed string: lipak\n"
          ]
        }
      ]
    },
    {
      "cell_type": "markdown",
      "source": [
        "**15. Write a Python program to calculate the factorial of a number provided by the user using a while loop.**"
      ],
      "metadata": {
        "id": "qv23C6cJYSIz"
      }
    },
    {
      "cell_type": "code",
      "source": [
        "num = int(input(\"Enter a Number: \"))\n",
        "fact = 1\n",
        "\n",
        "while num > 0:\n",
        "  fact *= num\n",
        "  num -= 1\n",
        "print(\"The Factorial number is: \", fact)"
      ],
      "metadata": {
        "colab": {
          "base_uri": "https://localhost:8080/"
        },
        "id": "14waeRFAUd_o",
        "outputId": "96c8fcc2-a97d-4238-fb5b-5fc1ee2e086a"
      },
      "execution_count": 105,
      "outputs": [
        {
          "output_type": "stream",
          "name": "stdout",
          "text": [
            "Enter a Number: 5\n",
            "The Factorial number is:  120\n"
          ]
        }
      ]
    }
  ]
}